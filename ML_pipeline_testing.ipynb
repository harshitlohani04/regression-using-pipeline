{
  "nbformat": 4,
  "nbformat_minor": 0,
  "metadata": {
    "colab": {
      "provenance": [],
      "authorship_tag": "ABX9TyOV/zeeh4llQeW1gHO0hqAW",
      "include_colab_link": true
    },
    "kernelspec": {
      "name": "python3",
      "display_name": "Python 3"
    },
    "language_info": {
      "name": "python"
    }
  },
  "cells": [
    {
      "cell_type": "markdown",
      "metadata": {
        "id": "view-in-github",
        "colab_type": "text"
      },
      "source": [
        "<a href=\"https://colab.research.google.com/github/harshitlohani04/regression-using-pipeline/blob/master/ML_pipeline_testing.ipynb\" target=\"_parent\"><img src=\"https://colab.research.google.com/assets/colab-badge.svg\" alt=\"Open In Colab\"/></a>"
      ]
    },
    {
      "cell_type": "markdown",
      "source": [
        "# Task : To create the ML pipeline for regression model\n",
        "Step 1: Importing the important libraries"
      ],
      "metadata": {
        "id": "WOUi503sRwXA"
      }
    },
    {
      "cell_type": "code",
      "execution_count": 1,
      "metadata": {
        "id": "2oLol9VIRjTO"
      },
      "outputs": [],
      "source": [
        "import numpy as np\n",
        "import pandas as pd\n",
        "from sklearn import set_config"
      ]
    },
    {
      "cell_type": "markdown",
      "source": [
        "Step 2: Import the dataset"
      ],
      "metadata": {
        "id": "SDu3bS39SBYC"
      }
    },
    {
      "cell_type": "code",
      "source": [
        "!pip install ucimlrepo"
      ],
      "metadata": {
        "colab": {
          "base_uri": "https://localhost:8080/"
        },
        "id": "n1FXYd6VSAwW",
        "outputId": "060b493f-e66f-41fe-a752-d2a226b95b24"
      },
      "execution_count": 2,
      "outputs": [
        {
          "output_type": "stream",
          "name": "stdout",
          "text": [
            "Collecting ucimlrepo\n",
            "  Downloading ucimlrepo-0.0.7-py3-none-any.whl (8.0 kB)\n",
            "Requirement already satisfied: pandas>=1.0.0 in /usr/local/lib/python3.10/dist-packages (from ucimlrepo) (2.0.3)\n",
            "Requirement already satisfied: certifi>=2020.12.5 in /usr/local/lib/python3.10/dist-packages (from ucimlrepo) (2024.6.2)\n",
            "Requirement already satisfied: python-dateutil>=2.8.2 in /usr/local/lib/python3.10/dist-packages (from pandas>=1.0.0->ucimlrepo) (2.8.2)\n",
            "Requirement already satisfied: pytz>=2020.1 in /usr/local/lib/python3.10/dist-packages (from pandas>=1.0.0->ucimlrepo) (2023.4)\n",
            "Requirement already satisfied: tzdata>=2022.1 in /usr/local/lib/python3.10/dist-packages (from pandas>=1.0.0->ucimlrepo) (2024.1)\n",
            "Requirement already satisfied: numpy>=1.21.0 in /usr/local/lib/python3.10/dist-packages (from pandas>=1.0.0->ucimlrepo) (1.25.2)\n",
            "Requirement already satisfied: six>=1.5 in /usr/local/lib/python3.10/dist-packages (from python-dateutil>=2.8.2->pandas>=1.0.0->ucimlrepo) (1.16.0)\n",
            "Installing collected packages: ucimlrepo\n",
            "Successfully installed ucimlrepo-0.0.7\n"
          ]
        }
      ]
    },
    {
      "cell_type": "code",
      "source": [
        "from ucimlrepo import fetch_ucirepo\n",
        "\n",
        "# fetch dataset\n",
        "automobile = fetch_ucirepo(id=10)\n",
        "\n",
        "# data (as pandas dataframes)\n",
        "X = automobile.data.features\n",
        "y = automobile.data.targets"
      ],
      "metadata": {
        "collapsed": true,
        "id": "M-L3u9oEbvXs"
      },
      "execution_count": 3,
      "outputs": []
    },
    {
      "cell_type": "code",
      "source": [
        "from sklearn.model_selection import train_test_split\n",
        "X_train, X_test, y_train, y_test = train_test_split(X, y, test_size=0.2, random_state=42)\n",
        "y_train.shape, X_train.shape"
      ],
      "metadata": {
        "colab": {
          "base_uri": "https://localhost:8080/"
        },
        "id": "PiEw2zoecpMm",
        "outputId": "608ea6d5-9324-4b73-99c9-eca0ee033743"
      },
      "execution_count": 17,
      "outputs": [
        {
          "output_type": "execute_result",
          "data": {
            "text/plain": [
              "((164, 1), (164, 25))"
            ]
          },
          "metadata": {},
          "execution_count": 17
        }
      ]
    },
    {
      "cell_type": "markdown",
      "source": [
        "# Step 3: Creating the pipeline"
      ],
      "metadata": {
        "id": "Sgd4fu4sdAZJ"
      }
    },
    {
      "cell_type": "markdown",
      "source": [
        "Creating a custom transformer class for dropping the non-important columns from the dataset"
      ],
      "metadata": {
        "id": "7C0ULCt_B1nG"
      }
    },
    {
      "cell_type": "code",
      "source": [
        "from sklearn.base import BaseEstimator, TransformerMixin\n",
        "\n",
        "class drop_cols(BaseEstimator, TransformerMixin):\n",
        "    def __init__(self, threshold=0.9):\n",
        "        self.threshold = threshold\n",
        "        self.dropped_columns_ = []\n",
        "\n",
        "    def fit(self, X, y=None):\n",
        "        # Reset dropped columns during fit\n",
        "        self.dropped_columns_ = []\n",
        "\n",
        "        # Identify columns to drop based on threshold\n",
        "        X = pd.DataFrame(X)\n",
        "        for col in X.columns:\n",
        "            max_val = X[col].value_counts(normalize=True).max()\n",
        "            if max_val > self.threshold:\n",
        "                self.dropped_columns_.append(col)\n",
        "\n",
        "        return self\n",
        "\n",
        "    def transform(self, X):\n",
        "        # Drop identified columns from the DataFrame\n",
        "        X_new = pd.DataFrame(X)\n",
        "        X_new = X_new.drop(columns=self.dropped_columns_, axis=1)\n",
        "        return X_new\n",
        "\n",
        "    def get_dropped_columns(self):\n",
        "        # Method to get the list of dropped columns\n",
        "        return self.dropped_columns_"
      ],
      "metadata": {
        "id": "OxXr9pwJB7D9",
        "collapsed": true
      },
      "execution_count": 5,
      "outputs": []
    },
    {
      "cell_type": "markdown",
      "source": [
        "Creating a Custom Label Encoder to encode the data"
      ],
      "metadata": {
        "id": "Q5oMGxjsvI1W"
      }
    },
    {
      "cell_type": "code",
      "source": [
        "class custom_LabelEncoder(BaseEstimator, TransformerMixin):\n",
        "    def __init__(self):\n",
        "        self.label_encoder = LabelEncoder()\n",
        "        self.encoded_cols = []\n",
        "\n",
        "    def fit(self, X, y=None):\n",
        "        return self\n",
        "\n",
        "    def transform(self, X):\n",
        "      # We have to convert the type of the dataset to dataframe because sklearn internally changes the type of the dataset to numpy\n",
        "        X_new = X.copy()\n",
        "        X_new = pd.DataFrame(X_new)\n",
        "        for col in X_new.select_dtypes(include = object).columns:\n",
        "            X_new[col] = self.label_encoder.fit_transform(X_new[col])\n",
        "        return X_new"
      ],
      "metadata": {
        "id": "XYmPr4K9r465"
      },
      "execution_count": 8,
      "outputs": []
    },
    {
      "cell_type": "markdown",
      "source": [
        "Using the drop_cols and custom_LabelEncoder Custom transformers"
      ],
      "metadata": {
        "id": "Spb9YYc9vPoU"
      }
    },
    {
      "cell_type": "code",
      "source": [
        "from sklearn.pipeline import Pipeline\n",
        "from sklearn.preprocessing import StandardScaler, LabelEncoder, OneHotEncoder\n",
        "from sklearn.impute import SimpleImputer\n",
        "from sklearn.compose import ColumnTransformer\n",
        "import pandas as pd\n",
        "import numpy as np\n",
        "\n",
        "# create an object of the above class\n",
        "dropCols = drop_cols()\n",
        "\n",
        "# Creating a function that would contain the object if the above class so that we can keep track of the dropped columns.\n",
        "def create_pipeline(dataset):\n",
        "    transformedDs = dropCols.fit_transform(dataset)\n",
        "    numCols = transformedDs.select_dtypes(include = np.number).columns\n",
        "    objCols = transformedDs.select_dtypes(include = object).columns\n",
        "\n",
        "    # Creating the pipeline inside this method itself\n",
        "    steps_int = [(\"imputer\", SimpleImputer(missing_values=np.nan, strategy=\"mean\")), (\"scaler\", StandardScaler())]\n",
        "    steps_obj = [(\"imputer\", SimpleImputer(strategy = \"constant\", fill_value=\"missing\")), (\"custom_labelEncoder\", custom_LabelEncoder())]\n",
        "\n",
        "    pipe1 = Pipeline(steps_int)\n",
        "    pipe2 = Pipeline(steps_obj)\n",
        "\n",
        "    # Combining the 2 pipelines\n",
        "    ct = ColumnTransformer([(\"int\", pipe1, list(numCols)),\n",
        "                            (\"obj\", pipe2, list(objCols))])\n",
        "\n",
        "    return ct, dropCols.get_dropped_columns()"
      ],
      "metadata": {
        "id": "-EB8HcdUvNEs"
      },
      "execution_count": 9,
      "outputs": []
    },
    {
      "cell_type": "markdown",
      "source": [
        "Visualizing the pipeline"
      ],
      "metadata": {
        "id": "lap_XtBdvZTP"
      }
    },
    {
      "cell_type": "code",
      "source": [
        "from sklearn import set_config\n",
        "set_config(display='diagram')\n",
        "\n",
        "preprocessor_pipeline , colsDrop= create_pipeline(X_train)\n",
        "preprocessor_pipeline\n"
      ],
      "metadata": {
        "colab": {
          "base_uri": "https://localhost:8080/",
          "height": 151
        },
        "id": "QG5oA70pzKSK",
        "outputId": "ad5558af-070f-47ec-be5c-6161ffc176ec"
      },
      "execution_count": 10,
      "outputs": [
        {
          "output_type": "execute_result",
          "data": {
            "text/plain": [
              "ColumnTransformer(transformers=[('int',\n",
              "                                 Pipeline(steps=[('imputer', SimpleImputer()),\n",
              "                                                 ('scaler', StandardScaler())]),\n",
              "                                 ['price', 'highway-mpg', 'city-mpg',\n",
              "                                  'peak-rpm', 'horsepower', 'compression-ratio',\n",
              "                                  'stroke', 'bore', 'engine-size',\n",
              "                                  'num-of-cylinders', 'curb-weight', 'height',\n",
              "                                  'width', 'length', 'wheel-base',\n",
              "                                  'num-of-doors', 'normalized-losses']),\n",
              "                                ('obj',\n",
              "                                 Pipeline(steps=[('imputer',\n",
              "                                                  SimpleImputer(fill_value='missing',\n",
              "                                                                strategy='constant')),\n",
              "                                                 ('custom_labelEncoder',\n",
              "                                                  custom_LabelEncoder())]),\n",
              "                                 ['fuel-system', 'engine-type', 'drive-wheels',\n",
              "                                  'body-style', 'aspiration', 'make'])])"
            ],
            "text/html": [
              "<style>#sk-container-id-1 {color: black;background-color: white;}#sk-container-id-1 pre{padding: 0;}#sk-container-id-1 div.sk-toggleable {background-color: white;}#sk-container-id-1 label.sk-toggleable__label {cursor: pointer;display: block;width: 100%;margin-bottom: 0;padding: 0.3em;box-sizing: border-box;text-align: center;}#sk-container-id-1 label.sk-toggleable__label-arrow:before {content: \"▸\";float: left;margin-right: 0.25em;color: #696969;}#sk-container-id-1 label.sk-toggleable__label-arrow:hover:before {color: black;}#sk-container-id-1 div.sk-estimator:hover label.sk-toggleable__label-arrow:before {color: black;}#sk-container-id-1 div.sk-toggleable__content {max-height: 0;max-width: 0;overflow: hidden;text-align: left;background-color: #f0f8ff;}#sk-container-id-1 div.sk-toggleable__content pre {margin: 0.2em;color: black;border-radius: 0.25em;background-color: #f0f8ff;}#sk-container-id-1 input.sk-toggleable__control:checked~div.sk-toggleable__content {max-height: 200px;max-width: 100%;overflow: auto;}#sk-container-id-1 input.sk-toggleable__control:checked~label.sk-toggleable__label-arrow:before {content: \"▾\";}#sk-container-id-1 div.sk-estimator input.sk-toggleable__control:checked~label.sk-toggleable__label {background-color: #d4ebff;}#sk-container-id-1 div.sk-label input.sk-toggleable__control:checked~label.sk-toggleable__label {background-color: #d4ebff;}#sk-container-id-1 input.sk-hidden--visually {border: 0;clip: rect(1px 1px 1px 1px);clip: rect(1px, 1px, 1px, 1px);height: 1px;margin: -1px;overflow: hidden;padding: 0;position: absolute;width: 1px;}#sk-container-id-1 div.sk-estimator {font-family: monospace;background-color: #f0f8ff;border: 1px dotted black;border-radius: 0.25em;box-sizing: border-box;margin-bottom: 0.5em;}#sk-container-id-1 div.sk-estimator:hover {background-color: #d4ebff;}#sk-container-id-1 div.sk-parallel-item::after {content: \"\";width: 100%;border-bottom: 1px solid gray;flex-grow: 1;}#sk-container-id-1 div.sk-label:hover label.sk-toggleable__label {background-color: #d4ebff;}#sk-container-id-1 div.sk-serial::before {content: \"\";position: absolute;border-left: 1px solid gray;box-sizing: border-box;top: 0;bottom: 0;left: 50%;z-index: 0;}#sk-container-id-1 div.sk-serial {display: flex;flex-direction: column;align-items: center;background-color: white;padding-right: 0.2em;padding-left: 0.2em;position: relative;}#sk-container-id-1 div.sk-item {position: relative;z-index: 1;}#sk-container-id-1 div.sk-parallel {display: flex;align-items: stretch;justify-content: center;background-color: white;position: relative;}#sk-container-id-1 div.sk-item::before, #sk-container-id-1 div.sk-parallel-item::before {content: \"\";position: absolute;border-left: 1px solid gray;box-sizing: border-box;top: 0;bottom: 0;left: 50%;z-index: -1;}#sk-container-id-1 div.sk-parallel-item {display: flex;flex-direction: column;z-index: 1;position: relative;background-color: white;}#sk-container-id-1 div.sk-parallel-item:first-child::after {align-self: flex-end;width: 50%;}#sk-container-id-1 div.sk-parallel-item:last-child::after {align-self: flex-start;width: 50%;}#sk-container-id-1 div.sk-parallel-item:only-child::after {width: 0;}#sk-container-id-1 div.sk-dashed-wrapped {border: 1px dashed gray;margin: 0 0.4em 0.5em 0.4em;box-sizing: border-box;padding-bottom: 0.4em;background-color: white;}#sk-container-id-1 div.sk-label label {font-family: monospace;font-weight: bold;display: inline-block;line-height: 1.2em;}#sk-container-id-1 div.sk-label-container {text-align: center;}#sk-container-id-1 div.sk-container {/* jupyter's `normalize.less` sets `[hidden] { display: none; }` but bootstrap.min.css set `[hidden] { display: none !important; }` so we also need the `!important` here to be able to override the default hidden behavior on the sphinx rendered scikit-learn.org. See: https://github.com/scikit-learn/scikit-learn/issues/21755 */display: inline-block !important;position: relative;}#sk-container-id-1 div.sk-text-repr-fallback {display: none;}</style><div id=\"sk-container-id-1\" class=\"sk-top-container\"><div class=\"sk-text-repr-fallback\"><pre>ColumnTransformer(transformers=[(&#x27;int&#x27;,\n",
              "                                 Pipeline(steps=[(&#x27;imputer&#x27;, SimpleImputer()),\n",
              "                                                 (&#x27;scaler&#x27;, StandardScaler())]),\n",
              "                                 [&#x27;price&#x27;, &#x27;highway-mpg&#x27;, &#x27;city-mpg&#x27;,\n",
              "                                  &#x27;peak-rpm&#x27;, &#x27;horsepower&#x27;, &#x27;compression-ratio&#x27;,\n",
              "                                  &#x27;stroke&#x27;, &#x27;bore&#x27;, &#x27;engine-size&#x27;,\n",
              "                                  &#x27;num-of-cylinders&#x27;, &#x27;curb-weight&#x27;, &#x27;height&#x27;,\n",
              "                                  &#x27;width&#x27;, &#x27;length&#x27;, &#x27;wheel-base&#x27;,\n",
              "                                  &#x27;num-of-doors&#x27;, &#x27;normalized-losses&#x27;]),\n",
              "                                (&#x27;obj&#x27;,\n",
              "                                 Pipeline(steps=[(&#x27;imputer&#x27;,\n",
              "                                                  SimpleImputer(fill_value=&#x27;missing&#x27;,\n",
              "                                                                strategy=&#x27;constant&#x27;)),\n",
              "                                                 (&#x27;custom_labelEncoder&#x27;,\n",
              "                                                  custom_LabelEncoder())]),\n",
              "                                 [&#x27;fuel-system&#x27;, &#x27;engine-type&#x27;, &#x27;drive-wheels&#x27;,\n",
              "                                  &#x27;body-style&#x27;, &#x27;aspiration&#x27;, &#x27;make&#x27;])])</pre><b>In a Jupyter environment, please rerun this cell to show the HTML representation or trust the notebook. <br />On GitHub, the HTML representation is unable to render, please try loading this page with nbviewer.org.</b></div><div class=\"sk-container\" hidden><div class=\"sk-item sk-dashed-wrapped\"><div class=\"sk-label-container\"><div class=\"sk-label sk-toggleable\"><input class=\"sk-toggleable__control sk-hidden--visually\" id=\"sk-estimator-id-1\" type=\"checkbox\" ><label for=\"sk-estimator-id-1\" class=\"sk-toggleable__label sk-toggleable__label-arrow\">ColumnTransformer</label><div class=\"sk-toggleable__content\"><pre>ColumnTransformer(transformers=[(&#x27;int&#x27;,\n",
              "                                 Pipeline(steps=[(&#x27;imputer&#x27;, SimpleImputer()),\n",
              "                                                 (&#x27;scaler&#x27;, StandardScaler())]),\n",
              "                                 [&#x27;price&#x27;, &#x27;highway-mpg&#x27;, &#x27;city-mpg&#x27;,\n",
              "                                  &#x27;peak-rpm&#x27;, &#x27;horsepower&#x27;, &#x27;compression-ratio&#x27;,\n",
              "                                  &#x27;stroke&#x27;, &#x27;bore&#x27;, &#x27;engine-size&#x27;,\n",
              "                                  &#x27;num-of-cylinders&#x27;, &#x27;curb-weight&#x27;, &#x27;height&#x27;,\n",
              "                                  &#x27;width&#x27;, &#x27;length&#x27;, &#x27;wheel-base&#x27;,\n",
              "                                  &#x27;num-of-doors&#x27;, &#x27;normalized-losses&#x27;]),\n",
              "                                (&#x27;obj&#x27;,\n",
              "                                 Pipeline(steps=[(&#x27;imputer&#x27;,\n",
              "                                                  SimpleImputer(fill_value=&#x27;missing&#x27;,\n",
              "                                                                strategy=&#x27;constant&#x27;)),\n",
              "                                                 (&#x27;custom_labelEncoder&#x27;,\n",
              "                                                  custom_LabelEncoder())]),\n",
              "                                 [&#x27;fuel-system&#x27;, &#x27;engine-type&#x27;, &#x27;drive-wheels&#x27;,\n",
              "                                  &#x27;body-style&#x27;, &#x27;aspiration&#x27;, &#x27;make&#x27;])])</pre></div></div></div><div class=\"sk-parallel\"><div class=\"sk-parallel-item\"><div class=\"sk-item\"><div class=\"sk-label-container\"><div class=\"sk-label sk-toggleable\"><input class=\"sk-toggleable__control sk-hidden--visually\" id=\"sk-estimator-id-2\" type=\"checkbox\" ><label for=\"sk-estimator-id-2\" class=\"sk-toggleable__label sk-toggleable__label-arrow\">int</label><div class=\"sk-toggleable__content\"><pre>[&#x27;price&#x27;, &#x27;highway-mpg&#x27;, &#x27;city-mpg&#x27;, &#x27;peak-rpm&#x27;, &#x27;horsepower&#x27;, &#x27;compression-ratio&#x27;, &#x27;stroke&#x27;, &#x27;bore&#x27;, &#x27;engine-size&#x27;, &#x27;num-of-cylinders&#x27;, &#x27;curb-weight&#x27;, &#x27;height&#x27;, &#x27;width&#x27;, &#x27;length&#x27;, &#x27;wheel-base&#x27;, &#x27;num-of-doors&#x27;, &#x27;normalized-losses&#x27;]</pre></div></div></div><div class=\"sk-serial\"><div class=\"sk-item\"><div class=\"sk-serial\"><div class=\"sk-item\"><div class=\"sk-estimator sk-toggleable\"><input class=\"sk-toggleable__control sk-hidden--visually\" id=\"sk-estimator-id-3\" type=\"checkbox\" ><label for=\"sk-estimator-id-3\" class=\"sk-toggleable__label sk-toggleable__label-arrow\">SimpleImputer</label><div class=\"sk-toggleable__content\"><pre>SimpleImputer()</pre></div></div></div><div class=\"sk-item\"><div class=\"sk-estimator sk-toggleable\"><input class=\"sk-toggleable__control sk-hidden--visually\" id=\"sk-estimator-id-4\" type=\"checkbox\" ><label for=\"sk-estimator-id-4\" class=\"sk-toggleable__label sk-toggleable__label-arrow\">StandardScaler</label><div class=\"sk-toggleable__content\"><pre>StandardScaler()</pre></div></div></div></div></div></div></div></div><div class=\"sk-parallel-item\"><div class=\"sk-item\"><div class=\"sk-label-container\"><div class=\"sk-label sk-toggleable\"><input class=\"sk-toggleable__control sk-hidden--visually\" id=\"sk-estimator-id-5\" type=\"checkbox\" ><label for=\"sk-estimator-id-5\" class=\"sk-toggleable__label sk-toggleable__label-arrow\">obj</label><div class=\"sk-toggleable__content\"><pre>[&#x27;fuel-system&#x27;, &#x27;engine-type&#x27;, &#x27;drive-wheels&#x27;, &#x27;body-style&#x27;, &#x27;aspiration&#x27;, &#x27;make&#x27;]</pre></div></div></div><div class=\"sk-serial\"><div class=\"sk-item\"><div class=\"sk-serial\"><div class=\"sk-item\"><div class=\"sk-estimator sk-toggleable\"><input class=\"sk-toggleable__control sk-hidden--visually\" id=\"sk-estimator-id-6\" type=\"checkbox\" ><label for=\"sk-estimator-id-6\" class=\"sk-toggleable__label sk-toggleable__label-arrow\">SimpleImputer</label><div class=\"sk-toggleable__content\"><pre>SimpleImputer(fill_value=&#x27;missing&#x27;, strategy=&#x27;constant&#x27;)</pre></div></div></div><div class=\"sk-item\"><div class=\"sk-estimator sk-toggleable\"><input class=\"sk-toggleable__control sk-hidden--visually\" id=\"sk-estimator-id-7\" type=\"checkbox\" ><label for=\"sk-estimator-id-7\" class=\"sk-toggleable__label sk-toggleable__label-arrow\">custom_LabelEncoder</label><div class=\"sk-toggleable__content\"><pre>custom_LabelEncoder()</pre></div></div></div></div></div></div></div></div></div></div></div></div>"
            ]
          },
          "metadata": {},
          "execution_count": 10
        }
      ]
    },
    {
      "cell_type": "markdown",
      "source": [
        "Creating another custom Transformer that would apply the transforms to the data"
      ],
      "metadata": {
        "id": "rElYV6Uvvh5N"
      }
    },
    {
      "cell_type": "code",
      "source": [
        "class DynamicPreprocessor(BaseEstimator, TransformerMixin):\n",
        "    def __init__(self):\n",
        "        self.dropped_cols = []\n",
        "\n",
        "    def fit(self, X, y=None):\n",
        "        self.pipeline, self.droppped_cols = create_pipeline(X)\n",
        "        self.pipeline.fit(X)\n",
        "        return self\n",
        "\n",
        "    def transform(self, X):\n",
        "        X_new = X.drop(columns = self.dropped_cols, axis = 1)\n",
        "        return self.pipeline.transform(X_new)\n"
      ],
      "metadata": {
        "id": "l16ghFDr8xo9"
      },
      "execution_count": 19,
      "outputs": []
    },
    {
      "cell_type": "markdown",
      "source": [
        "Final pipe"
      ],
      "metadata": {
        "id": "xae8pr-XvtJZ"
      }
    },
    {
      "cell_type": "code",
      "source": [
        "from sklearn.ensemble import RandomForestRegressor\n",
        "final_pipe = Pipeline([(\"dynamic_preprocessor\", DynamicPreprocessor()), (\"regressor\", RandomForestRegressor())])\n",
        "final_pipe"
      ],
      "metadata": {
        "colab": {
          "base_uri": "https://localhost:8080/",
          "height": 125
        },
        "id": "EQdeMHK1-sVW",
        "outputId": "fe280b6d-6380-48b3-aa57-9d3f3af5a7d1"
      },
      "execution_count": 20,
      "outputs": [
        {
          "output_type": "execute_result",
          "data": {
            "text/plain": [
              "Pipeline(steps=[('dynamic_preprocessor', DynamicPreprocessor()),\n",
              "                ('regressor', RandomForestRegressor())])"
            ],
            "text/html": [
              "<style>#sk-container-id-3 {color: black;background-color: white;}#sk-container-id-3 pre{padding: 0;}#sk-container-id-3 div.sk-toggleable {background-color: white;}#sk-container-id-3 label.sk-toggleable__label {cursor: pointer;display: block;width: 100%;margin-bottom: 0;padding: 0.3em;box-sizing: border-box;text-align: center;}#sk-container-id-3 label.sk-toggleable__label-arrow:before {content: \"▸\";float: left;margin-right: 0.25em;color: #696969;}#sk-container-id-3 label.sk-toggleable__label-arrow:hover:before {color: black;}#sk-container-id-3 div.sk-estimator:hover label.sk-toggleable__label-arrow:before {color: black;}#sk-container-id-3 div.sk-toggleable__content {max-height: 0;max-width: 0;overflow: hidden;text-align: left;background-color: #f0f8ff;}#sk-container-id-3 div.sk-toggleable__content pre {margin: 0.2em;color: black;border-radius: 0.25em;background-color: #f0f8ff;}#sk-container-id-3 input.sk-toggleable__control:checked~div.sk-toggleable__content {max-height: 200px;max-width: 100%;overflow: auto;}#sk-container-id-3 input.sk-toggleable__control:checked~label.sk-toggleable__label-arrow:before {content: \"▾\";}#sk-container-id-3 div.sk-estimator input.sk-toggleable__control:checked~label.sk-toggleable__label {background-color: #d4ebff;}#sk-container-id-3 div.sk-label input.sk-toggleable__control:checked~label.sk-toggleable__label {background-color: #d4ebff;}#sk-container-id-3 input.sk-hidden--visually {border: 0;clip: rect(1px 1px 1px 1px);clip: rect(1px, 1px, 1px, 1px);height: 1px;margin: -1px;overflow: hidden;padding: 0;position: absolute;width: 1px;}#sk-container-id-3 div.sk-estimator {font-family: monospace;background-color: #f0f8ff;border: 1px dotted black;border-radius: 0.25em;box-sizing: border-box;margin-bottom: 0.5em;}#sk-container-id-3 div.sk-estimator:hover {background-color: #d4ebff;}#sk-container-id-3 div.sk-parallel-item::after {content: \"\";width: 100%;border-bottom: 1px solid gray;flex-grow: 1;}#sk-container-id-3 div.sk-label:hover label.sk-toggleable__label {background-color: #d4ebff;}#sk-container-id-3 div.sk-serial::before {content: \"\";position: absolute;border-left: 1px solid gray;box-sizing: border-box;top: 0;bottom: 0;left: 50%;z-index: 0;}#sk-container-id-3 div.sk-serial {display: flex;flex-direction: column;align-items: center;background-color: white;padding-right: 0.2em;padding-left: 0.2em;position: relative;}#sk-container-id-3 div.sk-item {position: relative;z-index: 1;}#sk-container-id-3 div.sk-parallel {display: flex;align-items: stretch;justify-content: center;background-color: white;position: relative;}#sk-container-id-3 div.sk-item::before, #sk-container-id-3 div.sk-parallel-item::before {content: \"\";position: absolute;border-left: 1px solid gray;box-sizing: border-box;top: 0;bottom: 0;left: 50%;z-index: -1;}#sk-container-id-3 div.sk-parallel-item {display: flex;flex-direction: column;z-index: 1;position: relative;background-color: white;}#sk-container-id-3 div.sk-parallel-item:first-child::after {align-self: flex-end;width: 50%;}#sk-container-id-3 div.sk-parallel-item:last-child::after {align-self: flex-start;width: 50%;}#sk-container-id-3 div.sk-parallel-item:only-child::after {width: 0;}#sk-container-id-3 div.sk-dashed-wrapped {border: 1px dashed gray;margin: 0 0.4em 0.5em 0.4em;box-sizing: border-box;padding-bottom: 0.4em;background-color: white;}#sk-container-id-3 div.sk-label label {font-family: monospace;font-weight: bold;display: inline-block;line-height: 1.2em;}#sk-container-id-3 div.sk-label-container {text-align: center;}#sk-container-id-3 div.sk-container {/* jupyter's `normalize.less` sets `[hidden] { display: none; }` but bootstrap.min.css set `[hidden] { display: none !important; }` so we also need the `!important` here to be able to override the default hidden behavior on the sphinx rendered scikit-learn.org. See: https://github.com/scikit-learn/scikit-learn/issues/21755 */display: inline-block !important;position: relative;}#sk-container-id-3 div.sk-text-repr-fallback {display: none;}</style><div id=\"sk-container-id-3\" class=\"sk-top-container\"><div class=\"sk-text-repr-fallback\"><pre>Pipeline(steps=[(&#x27;dynamic_preprocessor&#x27;, DynamicPreprocessor()),\n",
              "                (&#x27;regressor&#x27;, RandomForestRegressor())])</pre><b>In a Jupyter environment, please rerun this cell to show the HTML representation or trust the notebook. <br />On GitHub, the HTML representation is unable to render, please try loading this page with nbviewer.org.</b></div><div class=\"sk-container\" hidden><div class=\"sk-item sk-dashed-wrapped\"><div class=\"sk-label-container\"><div class=\"sk-label sk-toggleable\"><input class=\"sk-toggleable__control sk-hidden--visually\" id=\"sk-estimator-id-11\" type=\"checkbox\" ><label for=\"sk-estimator-id-11\" class=\"sk-toggleable__label sk-toggleable__label-arrow\">Pipeline</label><div class=\"sk-toggleable__content\"><pre>Pipeline(steps=[(&#x27;dynamic_preprocessor&#x27;, DynamicPreprocessor()),\n",
              "                (&#x27;regressor&#x27;, RandomForestRegressor())])</pre></div></div></div><div class=\"sk-serial\"><div class=\"sk-item\"><div class=\"sk-estimator sk-toggleable\"><input class=\"sk-toggleable__control sk-hidden--visually\" id=\"sk-estimator-id-12\" type=\"checkbox\" ><label for=\"sk-estimator-id-12\" class=\"sk-toggleable__label sk-toggleable__label-arrow\">DynamicPreprocessor</label><div class=\"sk-toggleable__content\"><pre>DynamicPreprocessor()</pre></div></div></div><div class=\"sk-item\"><div class=\"sk-estimator sk-toggleable\"><input class=\"sk-toggleable__control sk-hidden--visually\" id=\"sk-estimator-id-13\" type=\"checkbox\" ><label for=\"sk-estimator-id-13\" class=\"sk-toggleable__label sk-toggleable__label-arrow\">RandomForestRegressor</label><div class=\"sk-toggleable__content\"><pre>RandomForestRegressor()</pre></div></div></div></div></div></div></div>"
            ]
          },
          "metadata": {},
          "execution_count": 20
        }
      ]
    },
    {
      "cell_type": "markdown",
      "source": [
        "Predicting the values"
      ],
      "metadata": {
        "id": "lst7B10gvvDh"
      }
    },
    {
      "cell_type": "code",
      "source": [
        "final_pipe.fit(X_train, y_train)\n",
        "y_pred = final_pipe.predict(X_test)\n",
        "y_pred"
      ],
      "metadata": {
        "colab": {
          "base_uri": "https://localhost:8080/"
        },
        "id": "Zo5supNLS_nS",
        "outputId": "ab3a8002-927b-4a2d-9415-2f9b57566f22"
      },
      "execution_count": 23,
      "outputs": [
        {
          "output_type": "stream",
          "name": "stderr",
          "text": [
            "/usr/local/lib/python3.10/dist-packages/sklearn/pipeline.py:405: DataConversionWarning: A column-vector y was passed when a 1d array was expected. Please change the shape of y to (n_samples,), for example using ravel().\n",
            "  self._final_estimator.fit(Xt, y, **fit_params_last_step)\n"
          ]
        },
        {
          "output_type": "execute_result",
          "data": {
            "text/plain": [
              "array([ 0.54,  1.75,  0.14,  2.47, -0.58,  1.09,  0.06,  0.  ,  0.1 ,\n",
              "        1.27,  0.26,  1.25, -0.01, -0.65, -0.56,  0.09,  1.34,  2.75,\n",
              "        0.59,  0.2 ,  0.12,  0.04,  1.46,  1.59,  0.99,  1.48,  1.98,\n",
              "       -0.65,  0.78, -0.84, -0.54,  1.  ,  0.1 , -0.49,  1.82,  1.2 ,\n",
              "        0.18,  2.82,  0.66,  2.75, -0.03])"
            ]
          },
          "metadata": {},
          "execution_count": 23
        }
      ]
    },
    {
      "cell_type": "markdown",
      "source": [
        "Evaluating the RMSE score for the predictions"
      ],
      "metadata": {
        "id": "3R4xCm31vyfu"
      }
    },
    {
      "cell_type": "code",
      "source": [
        "from sklearn.metrics import mean_squared_error\n",
        "rmse = np.sqrt(mean_squared_error(y_test, y_pred))\n",
        "rmse"
      ],
      "metadata": {
        "colab": {
          "base_uri": "https://localhost:8080/"
        },
        "id": "0km4Y3IUuZ9B",
        "outputId": "880632c7-f17c-40c3-e0c1-dfa35d9cf11e"
      },
      "execution_count": 24,
      "outputs": [
        {
          "output_type": "execute_result",
          "data": {
            "text/plain": [
              "0.5807312463504998"
            ]
          },
          "metadata": {},
          "execution_count": 24
        }
      ]
    }
  ]
}